{
 "cells": [
  {
   "cell_type": "markdown",
   "metadata": {},
   "source": [
    "###  Teoretical questions\n"
   ]
  },
  {
   "cell_type": "markdown",
   "metadata": {},
   "source": [
    "#### 1. Kalle delar upp sin data i ”Träning”, ”Validering” och ”Test”, vad används respektive del för?"
   ]
  },
  {
   "cell_type": "markdown",
   "metadata": {},
   "source": [
    "Den första anledningen är att man följer den klassiska principen inom maskininlärning, där man först tränar modellen på träningsdata och justerar modellens parametrar så att den kan känna igen mönster i datan. Därefter utvärderar man hur modellen presterar på ny data genom valideringssetet, där man kan justera hyperparametrar. Slutligen testar man modellens förmåga att göra förutsägelser på testdata.\n",
    "Den andra anledningen kan vara att kunna jämföra prestandan hos flera modeller. När man tränar och justerar modellens parametrar på träningsdata, utvärderar man sedan prestandan hos olika modeller på valideringssetet för att avgöra vilken modell som fungerar bäst både på träningsdata och på ny data (valideringsdata). Slutligen utvärderar man den bästa modellens prestanda på testsetet."
   ]
  },
  {
   "cell_type": "markdown",
   "metadata": {},
   "source": [
    "#### 2. Julia delar upp sin data i träning och test. På träningsdatan så tränar hon tre modeller; ”Linjär  Regression”, ”Lasso regression” och en ”Random Forest modell”. Hur skall hon välja vilken av  de tre modellerna hon skall fortsätta använda när hon inte skapat ett explicit ”validerings  dataset”? "
   ]
  },
  {
   "cell_type": "markdown",
   "metadata": {},
   "source": [
    "Julia kan utvärdera prestandan hos olika modeller genom att använda cross-validation-metoden (K-Fold Cross Validation). Enligt denna metod delas träningsdatan in i k delar (t.ex. 3, 5 eller fler). Modellen tränas på k-1 delar och valideras på den återstående delen. Denna process upprepas k gånger, och det slutliga resultatet beräknas som medelvärdet av modellernas prestanda över alla iterationer.\n",
    "I detta fall behöver Julia själv bestämma hur många omgångar processen ska genomföras, eller så kan hon använda standardvärdet k = 5, vilket innebär att processen körs 5 gånger.\n"
   ]
  },
  {
   "cell_type": "markdown",
   "metadata": {},
   "source": [
    "#### 3. Vad är ”regressionsproblem? Kan du ge några exempel på modeller som används och potentiella tillämpningsområden?"
   ]
  },
  {
   "cell_type": "markdown",
   "metadata": {},
   "source": [
    "Regressionsmodeller tränas för att förutsäga numeriska målvariabler baserat på träningsdata som innehåller både funktioner (features) och kända målvariabler (labels)."
   ]
  },
  {
   "cell_type": "markdown",
   "metadata": {},
   "source": [
    "#### 4. Hur kan du tolka RMSE och vad används det till: 𝑅𝑀𝑆𝐸 "
   ]
  },
  {
   "cell_type": "markdown",
   "metadata": {},
   "source": [
    "Det mäter genomsnittlig avvikelse mellan de faktiska värdena och värdena som är predikterade av en regressionsmodell.\n",
    "\n",
    "Med ***RMSE (Root Mean Squared Error)*** kan man se hur bra en regressionsmodell presterar(På annat sätt man kan säga hur mycket avviker förutsägelser från de riktiga värdena) Ju lägre RMSE desto bättre en regressionsmodell presterar( alltså gör mindre felaktiga förutsägelser)\n",
    "\n"
   ]
  },
  {
   "cell_type": "markdown",
   "metadata": {},
   "source": [
    "#### 5. Vad är ”klassificieringsproblem? Kan du ge några exempel på modeller som används och potentiella tillämpningsområden? Vad är en ”Confusion Matrix”? "
   ]
  },
  {
   "cell_type": "markdown",
   "metadata": {},
   "source": [
    "***Klassificering*** är en supervised maskininlärning teknik och följer därför samma iterativa process för att träna, validera och utvärdera modeller. Istället för att beräkna numeriska värden som en regressionsmodell, beräknar algoritmerna som används för att träna klassificeringsmodeller sannolikhet värden för klassificering.\n",
    "\n",
    "\n",
    "Binära klassificering algoritmer används för att träna en modell som förutsäger en av två möjliga etiketter för en enskild klass. I grund och botten handlar det om att förutsäga sant eller falskt.\n",
    "Med en sådan modell kan vi till exempel förutsäga om patienten har diabetes eller inte, baserat på en patients blodsockernivå.\n",
    "Till ex. SGDClassifier är en binär klassificering modell medan  LogisticRegression, RandomForestClassifier, and GaussianNB modeller används speciellt för multiclass classification.\n",
    "\n",
    "\n",
    " ”Confusion Matrix” är utvärderingsmått som används för att bedöma modellens prestanda jämför de förutsagda klasserna med de faktiska klasserna.\n",
    "Från  ***”Confusion Matrix”*** vi kan beräkna *Accuracy* – andelen av förutsägelser som modellen har fått rätt.  Vi kan också beräkna Recall: en metrik som mäter andelen positiva fall som modellen identifierade korrekt. Eller vi kan beräkna *Precision* metric som mäter andelen av de förutsagda positiva fallen där den verkliga etiketten faktiskt är positiv.\n"
   ]
  },
  {
   "cell_type": "markdown",
   "metadata": {},
   "source": [
    "#### 6. Vad är K-means modellen för något? Ge ett exempel på vad det kan tillämpas på."
   ]
  },
  {
   "cell_type": "markdown",
   "metadata": {},
   "source": [
    " __K-means-modellen__ tillhör ***Unsupervised Learning Techniques*** och används för klustring.\n",
    "\n",
    "Klustringsmetoden har som uppgift att identifiera liknande instanser och tilldela dem till kluster, eller grupper av liknande instanser.\n",
    "\n",
    "Eftersom metoden tillhör Unsupervised Learning, innebär det att man inte har några etiketter (labels) att jämföra resultaten med.\n",
    "\n",
    "Sådana modeller används bland annat för segmentering av kunder inom e-handel och marknadsföring. De kan också tillämpas inom dataanalys för klassidentifiering i nya dataset och upptäckt av avvikande värden (outlier detection).\n",
    "\n",
    "Bildsegmentering (Image Segmentation) och dimensionsreduktion (Dimensionality Reduction) är också vanliga tillämpningsområden för denna typ av modell.\n",
    "\n",
    "\n",
    "\n",
    "\n",
    "\n"
   ]
  },
  {
   "cell_type": "markdown",
   "metadata": {},
   "source": [
    "#### 7. Förklara (gärna med ett exempel): Ordinal encoding, one-hot encoding, dummy variable encoding. Se mappen ”l8” på GitHub om du behöver repetition. "
   ]
  },
  {
   "cell_type": "markdown",
   "metadata": {},
   "source": [
    "***Ordinal Encoding*** tilldelar varje kategori ett numeriskt värde baserat på en fördefinierad ordning. Denna metod används när kategorierna har en naturlig hierarki. Ofta används heltalsvärden som börjar från noll. För vissa variabler fungerar ordinal kodning bra, eftersom de tilldelade heltalsvärdena har en naturlig ordningsrelation sinsemellan. Maskininlärningsalgoritmer kan förstå och dra nytta av sådana relationer vid modellträning.\n",
    "\n",
    "***One-Hot Encoding*** skapar binära variabler där varje kategori representeras som en separat kolumn. Denna metod används när kategorierna saknar en naturlig ordning, vilket gör det viktigt att förhindra att modellen tolkar vissa kategorier som mer värdefulla än andra.\n",
    "\n",
    "Ett exempel är ett dataset över Huspriser där avstånd från havet kan representeras som kategorier. Om dessa kategorier kodas med Ordinal Encoding, kommer modellen att uppfatta dem som hierarkiska, vilket kan leda till felaktiga slutsatser.\n",
    "\n",
    "Användning av *One-Hot Encoding* i sådana fall förhindrar felaktiga antaganden om rangordning mellan kategorier. Nackdelen med denna metod är dock att den kan skapa många extra kolumner om antalet kategorier är stort, vilket i sin tur påverkar modellens prestanda negativt.\n",
    "\n",
    "***Dummy Variable Encoding*** är en metod för att omvandla kategorisk data till numeriska värden, liknande One-Hot Encoding, men med en viktig skillnad: man skapar en kolumn färre än antalet kategorier. Detta minskar redundansen i datan och undviker multikollinearitet, vilket är särskilt viktigt i modeller som linjär regression. I stället för att ha en kolumn för varje kategori representeras en av dem, den så kallade baseline-kategorin, indirekt genom att alla dummyvariabler sätts till noll.\n",
    "\n",
    "\n",
    "Till exempel, om en variabel har värdena \"röd\", \"grön\" och \"blå\", kan \"röd\" bli baseline och representeras av [0, 0], medan \"grön\" blir [1, 0] och \"blå\" [0, 1]. I modeller som använder ett intercept, som linjär eller logistisk regression, måste man använda dummy encoding för att undvika att datamatrisen blir singulär och därmed omöjlig att lösa med linjär algebra.\n",
    "\n",
    "\n",
    "Dummy Variable Encoding är en effektiv och nödvändig metod för att koda kategorisk data, särskilt i regressionsmodeller. Den hjälper till att undvika problem med multikollinearitet och säkerställer att modellen kan tränas korrekt. Samtidigt är det viktigt att anpassa kodningstekniken efter modelltypen – linjära modeller kräver ofta dummy encoding, medan trädmodeller klarar av hela kategorimängden utan problem.\n"
   ]
  },
  {
   "cell_type": "markdown",
   "metadata": {},
   "source": [
    "#### 8. Göran påstår att datan antingen är ”ordinal” eller ”nominal”. Julia säger att detta måste tolkas. Hon ger ett exempel med att färger såsom {röd, grön, blå} generellt sett inte har någon inbördes ordning (nominal) men om du har en röd skjorta så är du vackrast på festen (ordinal) – vem har rätt?  "
   ]
  },
  {
   "cell_type": "markdown",
   "metadata": {},
   "source": [
    "Jag tycker att ur en teoretisk synvinkel har Göran rätt, och färger tillhör nominal data, på samma sätt som exempelvis kön eller nationalitet. Nominal data kan inte rangordnas, vilket gör Julias påstående problematiskt.\n",
    "\n",
    "Hennes exempel är inte korrekt eftersom, om vi antar att färger tillhör ordinal data, borde det finnas en entydig och allmänt accepterad ordning som avgör vilken färg som ska komma först, på andra plats och så vidare. Däremot är det helt individuellt vilken färg som anses vara snyggast, vilket visar att färger inte naturligt kan rangordnas och därmed är nominal data.\n",
    "\n",
    "\n",
    "\n",
    "\n",
    "\n"
   ]
  },
  {
   "cell_type": "markdown",
   "metadata": {},
   "source": [
    "#### 9.  Kolla på video om Streamlit:  Vad är Streamlit för något och vad kan det användas till?  "
   ]
  },
  {
   "cell_type": "markdown",
   "metadata": {},
   "source": [
    "***Streamlit*** är ett open-source Python-applikation som används för att snabbt och enkelt bygga interaktiva webbappar för datavisualisering, maskininlärning och dataanalys – utan att behöva kunna frontend-utveckling som HTML, CSS eller JavaScript.\n",
    "Streamlit låter oss skapa snygga användargränssnitt direkt från Python-kod, vilket gör det perfekt för dataanalytiker, forskare och utvecklare som vill dela modeller eller analyser med andra på ett interaktivt och professionellt sätt."
   ]
  }
 ],
 "metadata": {
  "kernelspec": {
   "display_name": ".venv",
   "language": "python",
   "name": "python3"
  },
  "language_info": {
   "name": "python",
   "version": "3.13.1"
  }
 },
 "nbformat": 4,
 "nbformat_minor": 2
}
